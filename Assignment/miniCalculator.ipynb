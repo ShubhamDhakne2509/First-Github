{
 "cells": [
  {
   "cell_type": "code",
   "execution_count": 1,
   "id": "49fc6e40-55d1-4b4b-9f95-ebefc9261a82",
   "metadata": {},
   "outputs": [
    {
     "name": "stdout",
     "output_type": "stream",
     "text": [
      "hello\n"
     ]
    }
   ],
   "source": [
    "\n",
    "\n",
    "choice = input(''' Please select operation you want to perform\n",
    "         1.addition\n",
    "         2.subtraction\n",
    "         3.multiplication\n",
    "         4.division''')\n",
    "\n",
    "num1 = int(input(\"enter first number\"))\n",
    "num2 = int(input(\"enter second number\"))\n",
    "\n",
    "while int(choice) > 4:\n",
    "    choice = input(''' Please enter valid choice\n",
    "         1.addition\n",
    "         2.subtraction\n",
    "         3.multiplication\n",
    "         4.division''')\n",
    "match choice:\n",
    "    case '1':\n",
    "         print('Addition is::',num1+num2)\n",
    "    case '2':\n",
    "          print('Subtraction is::',num1-num2)\n",
    "    case '3':\n",
    "         print('Multiplication is::',num1*num2)\n",
    "    case '4':\n",
    "        print('Division is::',num1/num2)\n",
    "    case _:\n",
    "        print('Please eneter valid choice')\n",
    "\n",
    "\n",
    "\n",
    "\n"
   ]
  },
  {
   "cell_type": "code",
   "execution_count": null,
   "id": "90ac6e9c-9d52-4442-b737-d3c8520718d3",
   "metadata": {},
   "outputs": [],
   "source": []
  },
  {
   "cell_type": "code",
   "execution_count": null,
   "id": "38a8f09f-1dff-42c2-b244-f3fcc9b3679b",
   "metadata": {},
   "outputs": [],
   "source": []
  },
  {
   "cell_type": "code",
   "execution_count": null,
   "id": "f4add36e-524d-4747-be53-52aedbbe447f",
   "metadata": {},
   "outputs": [],
   "source": []
  },
  {
   "cell_type": "code",
   "execution_count": null,
   "id": "6f6c4edc-67bf-4eb4-85b3-9efa4295e2bb",
   "metadata": {},
   "outputs": [],
   "source": []
  }
 ],
 "metadata": {
  "kernelspec": {
   "display_name": "Python 3 (ipykernel)",
   "language": "python",
   "name": "python3"
  },
  "language_info": {
   "codemirror_mode": {
    "name": "ipython",
    "version": 3
   },
   "file_extension": ".py",
   "mimetype": "text/x-python",
   "name": "python",
   "nbconvert_exporter": "python",
   "pygments_lexer": "ipython3",
   "version": "3.12.4"
  }
 },
 "nbformat": 4,
 "nbformat_minor": 5
}
